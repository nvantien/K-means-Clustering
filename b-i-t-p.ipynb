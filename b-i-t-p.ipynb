{
 "cells": [
  {
   "cell_type": "code",
   "execution_count": 1,
   "id": "0abfa494",
   "metadata": {
    "_cell_guid": "b1076dfc-b9ad-4769-8c92-a6c4dae69d19",
    "_uuid": "8f2839f25d086af736a60e9eeb907d3b93b6e0e5",
    "execution": {
     "iopub.execute_input": "2022-03-31T08:13:18.711901Z",
     "iopub.status.busy": "2022-03-31T08:13:18.710530Z",
     "iopub.status.idle": "2022-03-31T08:13:18.731517Z",
     "shell.execute_reply": "2022-03-31T08:13:18.732348Z",
     "shell.execute_reply.started": "2022-03-31T07:53:00.217529Z"
    },
    "papermill": {
     "duration": 0.044345,
     "end_time": "2022-03-31T08:13:18.732771",
     "exception": false,
     "start_time": "2022-03-31T08:13:18.688426",
     "status": "completed"
    },
    "tags": []
   },
   "outputs": [
    {
     "name": "stdout",
     "output_type": "stream",
     "text": [
      "/kaggle/input/baitap/iris.csv\n"
     ]
    }
   ],
   "source": [
    "# This Python 3 environment comes with many helpful analytics libraries installed\n",
    "# It is defined by the kaggle/python Docker image: https://github.com/kaggle/docker-python\n",
    "# For example, here's several helpful packages to load\n",
    "\n",
    "import numpy as np # linear algebra\n",
    "import pandas as pd # data processing, CSV file I/O (e.g. pd.read_csv)\n",
    "\n",
    "# Input data files are available in the read-only \"../input/\" directory\n",
    "# For example, running this (by clicking run or pressing Shift+Enter) will list all files under the input directory\n",
    "\n",
    "import os\n",
    "for dirname, _, filenames in os.walk('/kaggle/input'):\n",
    "    for filename in filenames:\n",
    "        print(os.path.join(dirname, filename))\n",
    "\n",
    "# You can write up to 20GB to the current directory (/kaggle/working/) that gets preserved as output when you create a version using \"Save & Run All\" \n",
    "# You can also write temporary files to /kaggle/temp/, but they won't be saved outside of the current session"
   ]
  },
  {
   "cell_type": "code",
   "execution_count": 2,
   "id": "75c8f26d",
   "metadata": {
    "execution": {
     "iopub.execute_input": "2022-03-31T08:13:18.773005Z",
     "iopub.status.busy": "2022-03-31T08:13:18.772282Z",
     "iopub.status.idle": "2022-03-31T08:13:20.034636Z",
     "shell.execute_reply": "2022-03-31T08:13:20.033822Z",
     "shell.execute_reply.started": "2022-03-31T07:53:00.237759Z"
    },
    "papermill": {
     "duration": 1.282631,
     "end_time": "2022-03-31T08:13:20.034795",
     "exception": false,
     "start_time": "2022-03-31T08:13:18.752164",
     "status": "completed"
    },
    "tags": []
   },
   "outputs": [],
   "source": [
    "from sklearn.cluster import KMeans\n",
    "import pandas as pd\n",
    "from sklearn.preprocessing import MinMaxScaler\n",
    "from matplotlib import pyplot as plt\n",
    "%matplotlib inline"
   ]
  },
  {
   "cell_type": "code",
   "execution_count": 3,
   "id": "ab2cbdfd",
   "metadata": {
    "execution": {
     "iopub.execute_input": "2022-03-31T08:13:20.063170Z",
     "iopub.status.busy": "2022-03-31T08:13:20.062438Z",
     "iopub.status.idle": "2022-03-31T08:13:20.088714Z",
     "shell.execute_reply": "2022-03-31T08:13:20.089278Z",
     "shell.execute_reply.started": "2022-03-31T07:53:00.253571Z"
    },
    "papermill": {
     "duration": 0.042831,
     "end_time": "2022-03-31T08:13:20.089514",
     "exception": false,
     "start_time": "2022-03-31T08:13:20.046683",
     "status": "completed"
    },
    "tags": []
   },
   "outputs": [
    {
     "data": {
      "text/html": [
       "<div>\n",
       "<style scoped>\n",
       "    .dataframe tbody tr th:only-of-type {\n",
       "        vertical-align: middle;\n",
       "    }\n",
       "\n",
       "    .dataframe tbody tr th {\n",
       "        vertical-align: top;\n",
       "    }\n",
       "\n",
       "    .dataframe thead th {\n",
       "        text-align: right;\n",
       "    }\n",
       "</style>\n",
       "<table border=\"1\" class=\"dataframe\">\n",
       "  <thead>\n",
       "    <tr style=\"text-align: right;\">\n",
       "      <th></th>\n",
       "      <th>sepal.length</th>\n",
       "      <th>sepal.width</th>\n",
       "      <th>petal.length</th>\n",
       "      <th>petal.width</th>\n",
       "      <th>variety</th>\n",
       "    </tr>\n",
       "  </thead>\n",
       "  <tbody>\n",
       "    <tr>\n",
       "      <th>0</th>\n",
       "      <td>5.1</td>\n",
       "      <td>3.5</td>\n",
       "      <td>1.4</td>\n",
       "      <td>0.2</td>\n",
       "      <td>Setosa</td>\n",
       "    </tr>\n",
       "    <tr>\n",
       "      <th>1</th>\n",
       "      <td>4.9</td>\n",
       "      <td>3.0</td>\n",
       "      <td>1.4</td>\n",
       "      <td>0.2</td>\n",
       "      <td>Setosa</td>\n",
       "    </tr>\n",
       "    <tr>\n",
       "      <th>2</th>\n",
       "      <td>4.7</td>\n",
       "      <td>3.2</td>\n",
       "      <td>1.3</td>\n",
       "      <td>0.2</td>\n",
       "      <td>Setosa</td>\n",
       "    </tr>\n",
       "    <tr>\n",
       "      <th>3</th>\n",
       "      <td>4.6</td>\n",
       "      <td>3.1</td>\n",
       "      <td>1.5</td>\n",
       "      <td>0.2</td>\n",
       "      <td>Setosa</td>\n",
       "    </tr>\n",
       "    <tr>\n",
       "      <th>4</th>\n",
       "      <td>5.0</td>\n",
       "      <td>3.6</td>\n",
       "      <td>1.4</td>\n",
       "      <td>0.2</td>\n",
       "      <td>Setosa</td>\n",
       "    </tr>\n",
       "  </tbody>\n",
       "</table>\n",
       "</div>"
      ],
      "text/plain": [
       "   sepal.length  sepal.width  petal.length  petal.width variety\n",
       "0           5.1          3.5           1.4          0.2  Setosa\n",
       "1           4.9          3.0           1.4          0.2  Setosa\n",
       "2           4.7          3.2           1.3          0.2  Setosa\n",
       "3           4.6          3.1           1.5          0.2  Setosa\n",
       "4           5.0          3.6           1.4          0.2  Setosa"
      ]
     },
     "execution_count": 3,
     "metadata": {},
     "output_type": "execute_result"
    }
   ],
   "source": [
    "df = pd.read_csv(\"/kaggle/input/baitap/iris.csv\")\n",
    "df.head()"
   ]
  },
  {
   "cell_type": "code",
   "execution_count": 4,
   "id": "6cd719e5",
   "metadata": {
    "execution": {
     "iopub.execute_input": "2022-03-31T08:13:20.127242Z",
     "iopub.status.busy": "2022-03-31T08:13:20.117163Z",
     "iopub.status.idle": "2022-03-31T08:13:20.368185Z",
     "shell.execute_reply": "2022-03-31T08:13:20.367652Z",
     "shell.execute_reply.started": "2022-03-31T07:57:35.423762Z"
    },
    "papermill": {
     "duration": 0.266433,
     "end_time": "2022-03-31T08:13:20.368334",
     "exception": false,
     "start_time": "2022-03-31T08:13:20.101901",
     "status": "completed"
    },
    "tags": []
   },
   "outputs": [
    {
     "data": {
      "text/plain": [
       "Text(0, 0.5, 'sepal.width')"
      ]
     },
     "execution_count": 4,
     "metadata": {},
     "output_type": "execute_result"
    },
    {
     "data": {
      "image/png": "[encoded data removed]",
      "text/plain": [
       "<Figure size 432x288 with 1 Axes>"
      ]
     },
     "metadata": {
      "needs_background": "light"
     },
     "output_type": "display_data"
    }
   ],
   "source": [
    "plt.scatter(df['sepal.length'], df['sepal.width'])\n",
    "plt.xlabel('sepal.length')\n",
    "plt.ylabel('sepal.width')"
   ]
  },
  {
   "cell_type": "code",
   "execution_count": 5,
   "id": "03dc3c7a",
   "metadata": {
    "execution": {
     "iopub.execute_input": "2022-03-31T08:13:20.408993Z",
     "iopub.status.busy": "2022-03-31T08:13:20.406750Z",
     "iopub.status.idle": "2022-03-31T08:13:20.468170Z",
     "shell.execute_reply": "2022-03-31T08:13:20.467507Z",
     "shell.execute_reply.started": "2022-03-31T08:00:33.715460Z"
    },
    "papermill": {
     "duration": 0.086304,
     "end_time": "2022-03-31T08:13:20.468317",
     "exception": false,
     "start_time": "2022-03-31T08:13:20.382013",
     "status": "completed"
    },
    "tags": []
   },
   "outputs": [
    {
     "data": {
      "text/html": [
       "<div>\n",
       "<style scoped>\n",
       "    .dataframe tbody tr th:only-of-type {\n",
       "        vertical-align: middle;\n",
       "    }\n",
       "\n",
       "    .dataframe tbody tr th {\n",
       "        vertical-align: top;\n",
       "    }\n",
       "\n",
       "    .dataframe thead th {\n",
       "        text-align: right;\n",
       "    }\n",
       "</style>\n",
       "<table border=\"1\" class=\"dataframe\">\n",
       "  <thead>\n",
       "    <tr style=\"text-align: right;\">\n",
       "      <th></th>\n",
       "      <th>sepal.length</th>\n",
       "      <th>sepal.width</th>\n",
       "      <th>petal.length</th>\n",
       "      <th>petal.width</th>\n",
       "      <th>variety</th>\n",
       "      <th>cluster</th>\n",
       "    </tr>\n",
       "  </thead>\n",
       "  <tbody>\n",
       "    <tr>\n",
       "      <th>0</th>\n",
       "      <td>5.1</td>\n",
       "      <td>3.5</td>\n",
       "      <td>1.4</td>\n",
       "      <td>0.2</td>\n",
       "      <td>Setosa</td>\n",
       "      <td>2</td>\n",
       "    </tr>\n",
       "    <tr>\n",
       "      <th>1</th>\n",
       "      <td>4.9</td>\n",
       "      <td>3.0</td>\n",
       "      <td>1.4</td>\n",
       "      <td>0.2</td>\n",
       "      <td>Setosa</td>\n",
       "      <td>2</td>\n",
       "    </tr>\n",
       "    <tr>\n",
       "      <th>2</th>\n",
       "      <td>4.7</td>\n",
       "      <td>3.2</td>\n",
       "      <td>1.3</td>\n",
       "      <td>0.2</td>\n",
       "      <td>Setosa</td>\n",
       "      <td>2</td>\n",
       "    </tr>\n",
       "    <tr>\n",
       "      <th>3</th>\n",
       "      <td>4.6</td>\n",
       "      <td>3.1</td>\n",
       "      <td>1.5</td>\n",
       "      <td>0.2</td>\n",
       "      <td>Setosa</td>\n",
       "      <td>2</td>\n",
       "    </tr>\n",
       "    <tr>\n",
       "      <th>4</th>\n",
       "      <td>5.0</td>\n",
       "      <td>3.6</td>\n",
       "      <td>1.4</td>\n",
       "      <td>0.2</td>\n",
       "      <td>Setosa</td>\n",
       "      <td>2</td>\n",
       "    </tr>\n",
       "  </tbody>\n",
       "</table>\n",
       "</div>"
      ],
      "text/plain": [
       "   sepal.length  sepal.width  petal.length  petal.width variety  cluster\n",
       "0           5.1          3.5           1.4          0.2  Setosa        2\n",
       "1           4.9          3.0           1.4          0.2  Setosa        2\n",
       "2           4.7          3.2           1.3          0.2  Setosa        2\n",
       "3           4.6          3.1           1.5          0.2  Setosa        2\n",
       "4           5.0          3.6           1.4          0.2  Setosa        2"
      ]
     },
     "execution_count": 5,
     "metadata": {},
     "output_type": "execute_result"
    }
   ],
   "source": [
    "km = KMeans(n_clusters=3)\n",
    "y_predicted = km.fit_predict(df[['sepal.length','sepal.width']])\n",
    "y_predicted\n",
    "df['cluster']=y_predicted\n",
    "df.head()"
   ]
  },
  {
   "cell_type": "code",
   "execution_count": 6,
   "id": "8d75c29f",
   "metadata": {
    "execution": {
     "iopub.execute_input": "2022-03-31T08:13:20.499271Z",
     "iopub.status.busy": "2022-03-31T08:13:20.498623Z",
     "iopub.status.idle": "2022-03-31T08:13:20.757732Z",
     "shell.execute_reply": "2022-03-31T08:13:20.758275Z",
     "shell.execute_reply.started": "2022-03-31T08:00:49.987081Z"
    },
    "papermill": {
     "duration": 0.2764,
     "end_time": "2022-03-31T08:13:20.758483",
     "exception": false,
     "start_time": "2022-03-31T08:13:20.482083",
     "status": "completed"
    },
    "tags": []
   },
   "outputs": [
    {
     "data": {
      "text/plain": [
       "<matplotlib.legend.Legend at 0x7f5112a40910>"
      ]
     },
     "execution_count": 6,
     "metadata": {},
     "output_type": "execute_result"
    },
    {
     "data": {
      "image/png": "[encoded data removed]",
      "text/plain": [
       "<Figure size 432x288 with 1 Axes>"
      ]
     },
     "metadata": {
      "needs_background": "light"
     },
     "output_type": "display_data"
    }
   ],
   "source": [
    "df1 = df[df.cluster==0]\n",
    "df2 = df[df.cluster==1]\n",
    "df3 = df[df.cluster==2]\n",
    "plt.scatter(df1['sepal.width'],df1['sepal.length'],color='green')\n",
    "plt.scatter(df2['sepal.width'],df2['sepal.length'],color='red')\n",
    "plt.scatter(df3['sepal.width'],df3['sepal.length'],color='black')\n",
    "plt.scatter(km.cluster_centers_[:,0],km.cluster_centers_[:,1],color='purple',marker='*',label='centroid')\n",
    "plt.xlabel('sepal.length')\n",
    "plt.ylabel('sepal.width')\n",
    "plt.legend()"
   ]
  },
  {
   "cell_type": "code",
   "execution_count": 7,
   "id": "66e51517",
   "metadata": {
    "execution": {
     "iopub.execute_input": "2022-03-31T08:13:20.792543Z",
     "iopub.status.busy": "2022-03-31T08:13:20.791863Z",
     "iopub.status.idle": "2022-03-31T08:13:21.465133Z",
     "shell.execute_reply": "2022-03-31T08:13:21.464561Z",
     "shell.execute_reply.started": "2022-03-31T08:01:31.400150Z"
    },
    "papermill": {
     "duration": 0.691605,
     "end_time": "2022-03-31T08:13:21.465308",
     "exception": false,
     "start_time": "2022-03-31T08:13:20.773703",
     "status": "completed"
    },
    "tags": []
   },
   "outputs": [],
   "source": [
    "sse = []\n",
    "k_rng = range(1,10)\n",
    "for k in k_rng:\n",
    "    km = KMeans(n_clusters=k)\n",
    "    km.fit(df[['sepal.length','sepal.width']])\n",
    "    sse.append(km.inertia_)"
   ]
  },
  {
   "cell_type": "code",
   "execution_count": 8,
   "id": "e9604d25",
   "metadata": {
    "execution": {
     "iopub.execute_input": "2022-03-31T08:13:21.504877Z",
     "iopub.status.busy": "2022-03-31T08:13:21.503579Z",
     "iopub.status.idle": "2022-03-31T08:13:21.750041Z",
     "shell.execute_reply": "2022-03-31T08:13:21.750646Z",
     "shell.execute_reply.started": "2022-03-31T08:01:40.207890Z"
    },
    "papermill": {
     "duration": 0.268608,
     "end_time": "2022-03-31T08:13:21.750849",
     "exception": false,
     "start_time": "2022-03-31T08:13:21.482241",
     "status": "completed"
    },
    "tags": []
   },
   "outputs": [
    {
     "data": {
      "text/plain": [
       "[<matplotlib.lines.Line2D at 0x7f510a996710>]"
      ]
     },
     "execution_count": 8,
     "metadata": {},
     "output_type": "execute_result"
    },
    {
     "data": {
      "image/png": "[encoded data removed]",
      "text/plain": [
       "<Figure size 432x288 with 1 Axes>"
      ]
     },
     "metadata": {
      "needs_background": "light"
     },
     "output_type": "display_data"
    }
   ],
   "source": [
    "plt.xlabel('K')\n",
    "plt.ylabel('Sum of squared error')\n",
    "plt.plot(k_rng,sse)"
   ]
  },
  {
   "cell_type": "code",
   "execution_count": null,
   "id": "a5a306d7",
   "metadata": {
    "papermill": {
     "duration": 0.016763,
     "end_time": "2022-03-31T08:13:21.784737",
     "exception": false,
     "start_time": "2022-03-31T08:13:21.767974",
     "status": "completed"
    },
    "tags": []
   },
   "outputs": [],
   "source": []
  }
 ],
 "metadata": {
  "kernelspec": {
   "display_name": "Python 3",
   "language": "python",
   "name": "python3"
  },
  "language_info": {
   "codemirror_mode": {
    "name": "ipython",
    "version": 3
   },
   "file_extension": ".py",
   "mimetype": "text/x-python",
   "name": "python",
   "nbconvert_exporter": "python",
   "pygments_lexer": "ipython3",
   "version": "3.7.12"
  },
  "papermill": {
   "default_parameters": {},
   "duration": 13.467428,
   "end_time": "2022-03-31T08:13:22.512807",
   "environment_variables": {},
   "exception": null,
   "input_path": "__notebook__.ipynb",
   "output_path": "__notebook__.ipynb",
   "parameters": {},
   "start_time": "2022-03-31T08:13:09.045379",
   "version": "2.3.3"
  }
 },
 "nbformat": 4,
 "nbformat_minor": 5
}
